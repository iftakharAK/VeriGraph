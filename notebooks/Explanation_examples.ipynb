{
  "nbformat": 4,
  "nbformat_minor": 0,
  "metadata": {
    "colab": {
      "provenance": []
    },
    "kernelspec": {
      "name": "python3",
      "display_name": "Python 3"
    },
    "language_info": {
      "name": "python"
    }
  },
  "cells": [
    {
      "cell_type": "code",
      "source": [
        "!pip install -q transformers datasets torch bitsandbytes accelerate\n"
      ],
      "metadata": {
        "id": "fBg2ILDWnYsz"
      },
      "execution_count": null,
      "outputs": []
    },
    {
      "cell_type": "code",
      "execution_count": null,
      "metadata": {
        "id": "0r1HNC-cnSQ8"
      },
      "outputs": [],
      "source": [
        "\n",
        "\n",
        "import torch, json\n",
        "from datasets import load_dataset\n",
        "from transformers import AutoTokenizer, AutoModelForSeq2SeqLM\n",
        "from google.colab import drive\n",
        "\n",
        "\n",
        "# -------------------- Paths --------------------\n",
        "BASE_DIR = \"data\"\n",
        "MODEL_DIR_CTR = \"checkpoints\"\n",
        "DATA_PATH = f\"{BASE_DIR}/dataset_explanations.jsonl\"\n",
        "CKPT_PATH = f\"{MODEL_DIR_CTR}/lora_finetuned/explanation_model\"  # update if different\n",
        "\n",
        "device = \"cuda\" if torch.cuda.is_available() else \"cpu\"\n",
        "print(f\"Using device: {device}\")\n",
        "\n",
        "# -------------------- Load Dataset --------------------\n",
        "dataset = load_dataset(\"json\", data_files={\"test\": DATA_PATH})[\"test\"]\n",
        "print(f\"Loaded {len(dataset)} explanation samples.\")\n",
        "\n",
        "# -------------------- Load Fine-Tuned Explanation Generator --------------------\n",
        "tokenizer = AutoTokenizer.from_pretrained(CKPT_PATH)\n",
        "model = AutoModelForSeq2SeqLM.from_pretrained(CKPT_PATH).to(device)\n",
        "model.eval()\n",
        "print(f\"Loaded model from: {CKPT_PATH}\")\n",
        "\n",
        "# -------------------- Generate Explanations --------------------\n",
        "def generate_explanation(input_text):\n",
        "    enc = tokenizer(input_text, return_tensors=\"pt\", truncation=True, padding=True).to(device)\n",
        "    with torch.no_grad():\n",
        "        out = model.generate(**enc, max_new_tokens=80)\n",
        "    return tokenizer.decode(out[0], skip_special_tokens=True)\n",
        "\n",
        "# -------------------- Show Examples --------------------\n",
        "print(\"\\nExample Explanations from Fine-Tuned Model:\\n\")\n",
        "\n",
        "for i in range(10):  # Show 10 examples\n",
        "    sample = dataset[i]\n",
        "    input_text = sample[\"input_text\"]\n",
        "    target_text = sample.get(\"target_text\", None)\n",
        "\n",
        "    gen_text = generate_explanation(input_text)\n",
        "\n",
        "    print(f\"Example {i+1}\")\n",
        "    print(f\"Input : {input_text}\")\n",
        "    print(f\"Output: {gen_text}\")\n",
        "    if target_text:\n",
        "        print(f\"Target: {target_text}\")\n",
        "    print(\"-\" * 80)\n"
      ]
    }
  ]
}